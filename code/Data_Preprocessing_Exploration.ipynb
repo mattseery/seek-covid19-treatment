{
 "cells": [
  {
   "cell_type": "markdown",
   "id": "bf557fcd-0069-4fb7-8304-0632a7a345dd",
   "metadata": {},
   "source": [
    "# DATA PREPROCESSING AND EXPLORATION"
   ]
  },
  {
   "cell_type": "markdown",
   "id": "5bb928d7-aff2-4da9-bc2e-464e5d519f86",
   "metadata": {},
   "source": [
    "## Import Libraries"
   ]
  },
  {
   "cell_type": "code",
   "execution_count": 1,
   "id": "ed8ae7de-8da7-4a47-bf11-3386fa91add1",
   "metadata": {},
   "outputs": [],
   "source": [
    "import pandas as pd\n",
    "import numpy as np\n",
    "import matplotlib.pyplot as plt"
   ]
  },
  {
   "cell_type": "markdown",
   "id": "2dabd084-55db-464d-94bb-94a32af262a1",
   "metadata": {},
   "source": [
    "## Import Data"
   ]
  },
  {
   "cell_type": "markdown",
   "id": "b1085977-aecd-48cc-8ee5-3da5ece56a3a",
   "metadata": {},
   "source": [
    "### The following were removed in Excel before importing\n",
    "- All records where \"QCountry: Hidden in live\" equals New Zealand\n",
    "- \"hMonth_NZ: Hidden in live\", \"S2_NZ\", \"S4_NZ\" and \"S4_NZr6oe\" as relates to New Zealand\n",
    "- \"uuid: Participant identifier\" as not relevant\n",
    "- \"status: Participant status\", \"hMonth: Hidden in live\", \"INTRO\", \"AE1\", \"QCountry: Hidden in live\" as all values the same\n",
    "- \"HIGH_RISKr2\", \"HIGH_RISKr3\", \"Q2r1\", \"Q2r2\", \"Q2r3\", \"Q2r4\", \"Q2r5\", \"Q2r6\" as all answers NULL\n",
    "- \"hS2: HIDDEN QUESTION\", \"GCCSA_2\" not relevent as combines values from 2 existing columns with the only difference being that GREATER or GREAT is used instead of METRO and REST OF is used instead of REGIONAL.\n",
    "- \"S4\" & \"S4r12oe\" merged into 1 column called Ethnicity Background where \"S4r12oe\" responses replace \"Other, please specify\" in \"S4\"\n",
    "- \"Q7r11\" & \"Q7r11oe\" merged into 1 column called Q7r11 where \"Q7r11oe\" responses replace \"Other, please specify\" in \"Q7r11\"\n",
    "- \"Q9r9\" & \"Q9r9oe\" merged into 1 column called Q9r9 where \"Q9r9oe\" responses replace \"Something else, please specify:\" in \"Q9r9\"\n",
    "- \"Postcode\" as it contains 593 different values and the only sensible way to group this data would be by \"State\" which already exists as a column\n",
    "\n",
    "NB: \"Q1r22\" and \"Q1r22oe\" have been renamed to \"Other\" & \"Other_Response\". Reponses from \"Other_Response\" will be moved to \"Other\" where\n",
    "    the value is \"Other, specify\". The \"Other_Response\" column will then be removed. This was too much work to do manually so will be done in the cell      below."
   ]
  },
  {
   "cell_type": "code",
   "execution_count": 2,
   "id": "b9e0b3b6-9ecf-481b-99df-93fd23f3d842",
   "metadata": {},
   "outputs": [],
   "source": [
    "df = pd.read_excel('../data/90283 Analysis.xlsx',index_col='Record_Number')"
   ]
  },
  {
   "cell_type": "markdown",
   "id": "39bcf021-e0ab-4434-8e55-b17be7d9b4ba",
   "metadata": {},
   "source": [
    "## Clean Data"
   ]
  },
  {
   "cell_type": "code",
   "execution_count": 3,
   "id": "a3fbd4f9-7cce-4196-80e6-4ae73dcb6a04",
   "metadata": {},
   "outputs": [],
   "source": [
    "# Fillin missing data with \"No Response\")\n",
    "df.loc[:,['Other_Responses','Q3','Q4','Q5','Q7r1','Q7r2','Q7r3','Q7r4','Q7r5','Q7r6','Q7r7','Q7r8','Q7r9'\n",
    "          ,'Q7r10','Q7r11','Q8','Q9r1','Q9r2','Q9r3','Q9r4','Q9r5','Q9r6','Q9r7','Q9r8','Q9r9','Q9r10']] = df.loc[:,['Other_Responses',\n",
    "                                                                                                            'Q3','Q4','Q5','Q7r1',\n",
    "                                                                                                            'Q7r2','Q7r3','Q7r4',\n",
    "                                                                                                            'Q7r5','Q7r6','Q7r7',\n",
    "                                                                                                            'Q7r8','Q7r9','Q7r10',\n",
    "                                                                                                            'Q7r11','Q8','Q9r1',\n",
    "                                                                                                            'Q9r2','Q9r3','Q9r4',\n",
    "                                                                                                            'Q9r5','Q9r6','Q9r7',\n",
    "                                                                                                            'Q9r8','Q9r9','Q9r10']\n",
    "                                                                                                            ].fillna('No Response')\n",
    "\n",
    "\n",
    "# Merge responses from  \"Other\" and \"Other_Response\" into 1 column called \"Other\"\n",
    "df['Other'] = [v.Other_Responses if v.Other == 'Other, specify' else v.Other for i,v in df.iterrows()]\n",
    "df.drop('Other_Responses',axis = 1,inplace=True)\n",
    "\n",
    "\n",
    "# Consilidate various none responses in \"Other\" column into single value of \"Other, Not Specified\"\n",
    "other_none_values = ['No Response', 'none','Nothing','None of the above']\n",
    "df['Other'] = ['Other, Not Specified' if v.Other in other_none_values else v.Other for i,v in df.iterrows()]\n",
    "\n",
    "\n",
    "# Relabel data\n",
    "df['Q7r1'] = ['No' if v.Q7r1[0:2] == 'NO' else v.Q7r1 if v.Q7r1 == 'No Response' else 'Yes' for i,v in df.iterrows()]\n",
    "df['Q7r2'] = ['No' if v.Q7r2[0:2] == 'NO' else v.Q7r2 if v.Q7r2 == 'No Response' else 'Yes' for i,v in df.iterrows()]\n",
    "df['Q7r3'] = ['No' if v.Q7r3[0:2] == 'NO' else v.Q7r3 if v.Q7r3 == 'No Response' else 'Yes' for i,v in df.iterrows()]\n",
    "df['Q7r4'] = ['No' if v.Q7r4[0:2] == 'NO' else v.Q7r4 if v.Q7r4 == 'No Response' else 'Yes' for i,v in df.iterrows()]\n",
    "df['Q7r5'] = ['No' if v.Q7r5[0:2] == 'NO' else v.Q7r5 if v.Q7r5 == 'No Response' else 'Yes' for i,v in df.iterrows()]\n",
    "df['Q7r6'] = ['No' if v.Q7r6[0:2] == 'NO' else v.Q7r6 if v.Q7r6 == 'No Response' else 'Yes' for i,v in df.iterrows()]\n",
    "df['Q7r7'] = ['No' if v.Q7r7[0:2] == 'NO' else v.Q7r7 if v.Q7r7 == 'No Response' else 'Yes' for i,v in df.iterrows()]\n",
    "df['Q7r8'] = ['No' if v.Q7r8[0:2] == 'NO' else v.Q7r8 if v.Q7r8 == 'No Response' else 'Yes' for i,v in df.iterrows()]\n",
    "df['Q7r9'] = ['No' if v.Q7r9[0:2] == 'NO' else v.Q7r9 if v.Q7r9 == 'No Response' else 'Yes' for i,v in df.iterrows()]\n",
    "df['Q7r10'] = ['No' if v.Q7r10[0:2] == 'NO' else v.Q7r10 if v.Q7r10 == 'No Response' else 'Yes' for i,v in df.iterrows()]\n",
    "df['Q7r11'] = ['No' if v.Q7r11[0:2] == 'NO' else v.Q7r11 if v.Q7r11 == 'No Response' else 'Yes' for i,v in df.iterrows()]\n",
    "df['Q9r1'] = ['No' if v.Q9r1[0:2] == 'NO' else v.Q9r1 if v.Q9r1 == 'No Response' else 'Yes' for i,v in df.iterrows()]\n",
    "df['Q9r2'] = ['No' if v.Q9r2[0:2] == 'NO' else v.Q9r2 if v.Q9r2 == 'No Response' else 'Yes' for i,v in df.iterrows()]\n",
    "df['Q9r3'] = ['No' if v.Q9r3[0:2] == 'NO' else v.Q9r3 if v.Q9r3 == 'No Response' else 'Yes' for i,v in df.iterrows()]\n",
    "df['Q9r4'] = ['No' if v.Q9r4[0:2] == 'NO' else v.Q9r4 if v.Q9r4 == 'No Response' else 'Yes' for i,v in df.iterrows()]\n",
    "df['Q9r5'] = ['No' if v.Q9r5[0:2] == 'NO' else v.Q9r5 if v.Q9r5 == 'No Response' else 'Yes' for i,v in df.iterrows()]\n",
    "df['Q9r6'] = ['No' if v.Q9r6[0:2] == 'NO' else v.Q9r6 if v.Q9r6 == 'No Response' else 'Yes' for i,v in df.iterrows()]\n",
    "df['Q9r7'] = ['No' if v.Q9r7[0:2] == 'NO' else v.Q9r7 if v.Q9r7 == 'No Response' else 'Yes' for i,v in df.iterrows()]\n",
    "df['Q9r8'] = ['No' if v.Q9r8[0:2] == 'NO' else v.Q9r8 if v.Q9r8 == 'No Response' else 'Yes' for i,v in df.iterrows()]\n",
    "df['Q9r9'] = ['No' if v.Q9r9[0:2] == 'NO' else v.Q9r9 if v.Q9r9 == 'No Response' else 'Yes' for i,v in df.iterrows()]\n",
    "df['Q9r10'] = ['No' if v.Q9r10[0:2] == 'NO' else v.Q9r10 if v.Q9r10 == 'No Response' else 'Yes' for i,v in df.iterrows()]\n",
    "df['AE2'] = ['Yes' if v.AE2[0:3] == 'Yes' else 'No' if v.AE2[0:2] == 'No' else 'Don''t know/not sure' for i,v in df.iterrows()]\n",
    "df['State'] = [v.State[0:2] if v.State[2:3] == ' ' else v.State[0:3] for i,v in df.iterrows()]\n",
    "df['Asthma_moderate'] = ['No' if v.Asthma_moderate[0:2] == 'NO' else 'Yes' for i,v in df.iterrows()]\n",
    "df['Asthma_severe'] = ['No' if v.Asthma_severe[0:2] == 'NO' else 'Yes' for i,v in df.iterrows()]\n",
    "df['Cardiovascular'] = ['No' if v.Cardiovascular[0:2] == 'NO' else 'Yes' for i,v in df.iterrows()]\n",
    "df['COPD_moderate'] = ['No' if v.COPD_moderate[0:2] == 'NO' else 'Yes' for i,v in df.iterrows()]\n",
    "df['COPD_severe'] = ['No' if v.COPD_severe[0:2] == 'NO' else 'Yes' for i,v in df.iterrows()]\n",
    "df['Dementia_Alzheimer'] = ['No' if v.Dementia_Alzheimer[0:2] == 'NO' else 'Yes' for i,v in df.iterrows()]\n",
    "df['Diabetes'] = ['No' if v.Diabetes[0:2] == 'NO' else 'Yes' for i,v in df.iterrows()]\n",
    "df['Disabilities'] = ['No' if v.Disabilities[0:2] == 'NO' else 'Yes' for i,v in df.iterrows()]\n",
    "df['Hypertension'] = ['No' if v.Hypertension[0:2] == 'NO' else 'Yes' for i,v in df.iterrows()]\n",
    "df['Liver'] = ['No' if v.Liver[0:2] == 'NO' else 'Yes' for i,v in df.iterrows()]\n",
    "df['Neurodevelopmental'] = ['No' if v.Neurodevelopmental[0:2] == 'NO' else 'Yes' for i,v in df.iterrows()]\n",
    "df['Obesity'] = ['No' if v.Obesity[0:2] == 'NO' else 'Yes' for i,v in df.iterrows()]\n",
    "df['Other_Chronic_Respiratory'] = ['No' if v.Other_Chronic_Respiratory[0:2] == 'NO' else 'Yes' for i,v in df.iterrows()]\n",
    "df['Renal_Kidney'] = ['No' if v.Renal_Kidney[0:2] == 'NO' else 'Yes' for i,v in df.iterrows()]\n",
    "df['Autoimmune'] = ['No' if v.Autoimmune[0:2] == 'NO' else 'Yes' for i,v in df.iterrows()]\n",
    "df['Cancer'] = ['No' if v.Cancer[0:2] == 'NO' else 'Yes' for i,v in df.iterrows()]\n",
    "df['Chronic_Infections'] = ['No' if v.Chronic_Infections[0:2] == 'NO' else 'Yes' for i,v in df.iterrows()]\n",
    "df['Congenital_Acquired_Heart_Disease'] = ['No' if v.Congenital_Acquired_Heart_Disease[0:2] == 'NO' else 'Yes' for i,v in df.iterrows()]\n",
    "df['Sickle'] = ['No' if v.Sickle[0:2] == 'NO' else 'Yes' for i,v in df.iterrows()]\n",
    "df['Solid_Organ'] = ['No' if v.Solid_Organ[0:2] == 'NO' else 'Yes' for i,v in df.iterrows()]\n",
    "df['Previously_Admitted_COVID19'] = ['No' if v.Previously_Admitted_COVID19[0:2] == 'NO' else 'Yes' for i,v in df.iterrows()]\n",
    "df['HIGH_RISKr1'] = ['No' if v.HIGH_RISKr1[0:2] == 'NO' else 'Yes' for i,v in df.iterrows()]\n",
    "df['HIGH_RISKr4'] = ['No' if v.HIGH_RISKr4[0:2] == 'NO' else 'Yes' for i,v in df.iterrows()]\n",
    "df['HIGH_RISKr5'] = ['No' if v.HIGH_RISKr5[0:2] == 'NO' else 'Yes' for i,v in df.iterrows()]\n",
    "df['HIGH_RISKr6'] = ['No' if v.HIGH_RISKr6[0:2] == 'NO' else 'Yes' for i,v in df.iterrows()]\n",
    "\n",
    "\n",
    "# Convert coloms to boolean data type where only 2 responses exist\n",
    "# NB: For Gender, False for Female and True for Male\n",
    "#     For GCCSA, False for METRO and True for REGIONAL\n",
    "#     For remaining columns, False for No and True for Yes\n",
    "# df['Gender'] = [False if v.Gender == 'Female' else True for i,v in df.iterrows()]\n",
    "df['GCCSA'] = [False if v.GCCSA == 'METRO' else True for i,v in df.iterrows()]\n",
    "df['Asthma_moderate'] = [False if v.Asthma_moderate == 'No' else True for i,v in df.iterrows()]\n",
    "df['Asthma_severe'] = [False if v.Asthma_severe == 'No' else True for i,v in df.iterrows()]\n",
    "df['Cardiovascular'] = [False if v.Cardiovascular == 'No' else True for i,v in df.iterrows()]\n",
    "df['COPD_moderate'] = [False if v.COPD_moderate == 'No' else True for i,v in df.iterrows()]\n",
    "df['COPD_severe'] = [False if v.COPD_severe == 'No' else True for i,v in df.iterrows()]\n",
    "df['Dementia_Alzheimer'] = [False if v.Dementia_Alzheimer == 'No' else True for i,v in df.iterrows()]\n",
    "df['Diabetes'] = [False if v.Diabetes == 'No' else True for i,v in df.iterrows()]\n",
    "df['Disabilities'] = [False if v.Disabilities == 'No' else True for i,v in df.iterrows()]\n",
    "df['Hypertension'] = [False if v.Hypertension == 'No' else True for i,v in df.iterrows()]\n",
    "df['Liver'] = [False if v.Liver == 'No' else True for i,v in df.iterrows()]\n",
    "df['Neurodevelopmental'] = [False if v.Neurodevelopmental == 'No' else True for i,v in df.iterrows()]\n",
    "df['Obesity'] = [False if v.Obesity == 'No' else True for i,v in df.iterrows()]\n",
    "df['Other_Chronic_Respiratory'] = [False if v.Other_Chronic_Respiratory == 'No' else True for i,v in df.iterrows()]\n",
    "df['Renal_Kidney'] = [False if v.Renal_Kidney == 'No' else True for i,v in df.iterrows()]\n",
    "df['Autoimmune'] = [False if v.Autoimmune == 'No' else True for i,v in df.iterrows()]\n",
    "df['Cancer'] = [False if v.Cancer == 'No' else True for i,v in df.iterrows()]\n",
    "df['Chronic_Infections'] = [False if v.Chronic_Infections == 'No' else True for i,v in df.iterrows()]\n",
    "df['Congenital_Acquired_Heart_Disease'] = [False if v.Congenital_Acquired_Heart_Disease == 'No' else True for i,v in df.iterrows()]\n",
    "df['Sickle'] = [False if v.Sickle == 'No' else True for i,v in df.iterrows()]\n",
    "df['Solid_Organ'] = [False if v.Solid_Organ == 'No' else True for i,v in df.iterrows()]\n",
    "df['Previously_Admitted_COVID19'] = [False if v.Previously_Admitted_COVID19 == 'No' else True for i,v in df.iterrows()]\n",
    "df['HIGH_RISKr1'] = [False if v.HIGH_RISKr1 == 'No' else True for i,v in df.iterrows()]\n",
    "df['HIGH_RISKr4'] = [False if v.HIGH_RISKr4 == 'No' else True for i,v in df.iterrows()]\n",
    "df['HIGH_RISKr5'] = [False if v.HIGH_RISKr5 == 'No' else True for i,v in df.iterrows()]\n",
    "df['HIGH_RISKr6'] = [False if v.HIGH_RISKr6 == 'No' else True for i,v in df.iterrows()]\n",
    "df['Q6'] = [False if v.Q6 == 'No' else True for i,v in df.iterrows()]"
   ]
  },
  {
   "cell_type": "markdown",
   "id": "5b6ecf04-1af6-48d4-b54f-17d886b05024",
   "metadata": {},
   "source": [
    "## Drop columns where there are too many without a response"
   ]
  },
  {
   "cell_type": "code",
   "execution_count": 4,
   "id": "50bc7526-2c14-43a8-ad0c-a347fbfc4201",
   "metadata": {},
   "outputs": [],
   "source": [
    "df.drop(['Q4','Q5','Q7r1','Q7r2','Q7r3','Q7r4','Q7r5','Q7r6','Q7r7','Q7r8','Q7r9','Q7r10','Q7r11',\n",
    "         'Q8','Q9r1','Q9r2','Q9r3','Q9r4','Q9r5','Q9r6','Q9r7','Q9r8','Q9r9','Q9r10'],axis = 1,inplace=True)"
   ]
  },
  {
   "cell_type": "code",
   "execution_count": 5,
   "id": "b447e2a4-72c2-421f-8da6-9e2effe85281",
   "metadata": {},
   "outputs": [
    {
     "data": {
      "text/plain": [
       "['AE2',\n",
       " 'Gender',\n",
       " 'State',\n",
       " 'GCCSA',\n",
       " 'Age',\n",
       " 'Age_Bracket',\n",
       " 'Ethnicity_Background',\n",
       " 'Asthma_moderate',\n",
       " 'Asthma_severe',\n",
       " 'Cardiovascular',\n",
       " 'COPD_moderate',\n",
       " 'COPD_severe',\n",
       " 'Dementia_Alzheimer',\n",
       " 'Diabetes',\n",
       " 'Disabilities',\n",
       " 'Hypertension',\n",
       " 'Liver',\n",
       " 'Neurodevelopmental',\n",
       " 'Obesity',\n",
       " 'Other_Chronic_Respiratory',\n",
       " 'Renal_Kidney',\n",
       " 'Autoimmune',\n",
       " 'Cancer',\n",
       " 'Chronic_Infections',\n",
       " 'Congenital_Acquired_Heart_Disease',\n",
       " 'Sickle',\n",
       " 'Solid_Organ',\n",
       " 'Previously_Admitted_COVID19',\n",
       " 'Other',\n",
       " 'HIGH_RISKr1',\n",
       " 'HIGH_RISKr4',\n",
       " 'HIGH_RISKr5',\n",
       " 'HIGH_RISKr6',\n",
       " 'Q1a',\n",
       " 'Q2_New',\n",
       " 'Q3',\n",
       " 'Q6',\n",
       " 'Interview_Time']"
      ]
     },
     "execution_count": 5,
     "metadata": {},
     "output_type": "execute_result"
    }
   ],
   "source": [
    "cols_list = df.columns.tolist()\n",
    "cols_list"
   ]
  },
  {
   "cell_type": "markdown",
   "id": "c638ec5f-fb6c-4434-8ada-12a37e73bb17",
   "metadata": {},
   "source": [
    "## Export Cleaned Data For Further Analysis"
   ]
  },
  {
   "cell_type": "code",
   "execution_count": 6,
   "id": "47c95d31-4fb9-4c18-8960-82f6964af01a",
   "metadata": {},
   "outputs": [],
   "source": [
    "df.to_csv('cleaned_data.csv')"
   ]
  },
  {
   "cell_type": "markdown",
   "id": "d9b95724-8813-4011-8500-2859fa042c4a",
   "metadata": {},
   "source": [
    "## Data Exploration"
   ]
  },
  {
   "cell_type": "markdown",
   "id": "94230d70-df29-49bd-9946-77ae2616cbbb",
   "metadata": {},
   "source": [
    "### Relationship Between Age & Interview Time"
   ]
  },
  {
   "cell_type": "code",
   "execution_count": 7,
   "id": "31073444-b424-44c3-bb36-1f8f0a46bc1a",
   "metadata": {},
   "outputs": [
    {
     "data": {
      "image/png": "[encoded data removed]",
      "text/plain": [
       "<Figure size 640x480 with 1 Axes>"
      ]
     },
     "metadata": {},
     "output_type": "display_data"
    }
   ],
   "source": [
    "plt.scatter(df.Age, df.Interview_Time)\n",
    "plt.show()"
   ]
  },
  {
   "cell_type": "code",
   "execution_count": 8,
   "id": "6d14dbc0-1527-4ee7-9d08-b5432dd00c9f",
   "metadata": {},
   "outputs": [
    {
     "data": {
      "text/html": [
       "<div>\n",
       "<style scoped>\n",
       "    .dataframe tbody tr th:only-of-type {\n",
       "        vertical-align: middle;\n",
       "    }\n",
       "\n",
       "    .dataframe tbody tr th {\n",
       "        vertical-align: top;\n",
       "    }\n",
       "\n",
       "    .dataframe thead th {\n",
       "        text-align: right;\n",
       "    }\n",
       "</style>\n",
       "<table border=\"1\" class=\"dataframe\">\n",
       "  <thead>\n",
       "    <tr style=\"text-align: right;\">\n",
       "      <th></th>\n",
       "      <th>Age</th>\n",
       "      <th>Interview_Time</th>\n",
       "    </tr>\n",
       "  </thead>\n",
       "  <tbody>\n",
       "    <tr>\n",
       "      <th>Age</th>\n",
       "      <td>1.000000</td>\n",
       "      <td>0.053985</td>\n",
       "    </tr>\n",
       "    <tr>\n",
       "      <th>Interview_Time</th>\n",
       "      <td>0.053985</td>\n",
       "      <td>1.000000</td>\n",
       "    </tr>\n",
       "  </tbody>\n",
       "</table>\n",
       "</div>"
      ],
      "text/plain": [
       "                     Age  Interview_Time\n",
       "Age             1.000000        0.053985\n",
       "Interview_Time  0.053985        1.000000"
      ]
     },
     "execution_count": 8,
     "metadata": {},
     "output_type": "execute_result"
    }
   ],
   "source": [
    "df_age_it = df[['Age','Interview_Time']]\n",
    "df_age_it.corr()"
   ]
  },
  {
   "cell_type": "code",
   "execution_count": 9,
   "id": "ce71663f-17b2-4aa2-a00a-0e00eba7d712",
   "metadata": {},
   "outputs": [
    {
     "data": {
      "text/plain": [
       "<Axes: >"
      ]
     },
     "execution_count": 9,
     "metadata": {},
     "output_type": "execute_result"
    },
    {
     "data": {
      "image/png": "[encoded data removed]",
      "text/plain": [
       "<Figure size 640x480 with 1 Axes>"
      ]
     },
     "metadata": {},
     "output_type": "display_data"
    }
   ],
   "source": [
    "df.Age.hist()"
   ]
  },
  {
   "cell_type": "code",
   "execution_count": 10,
   "id": "2977b6fc-8da2-404e-8130-f60f79195ea5",
   "metadata": {},
   "outputs": [
    {
     "data": {
      "text/plain": [
       "<Axes: >"
      ]
     },
     "execution_count": 10,
     "metadata": {},
     "output_type": "execute_result"
    },
    {
     "data": {
      "image/png": "[encoded data removed]",
      "text/plain": [
       "<Figure size 640x480 with 1 Axes>"
      ]
     },
     "metadata": {},
     "output_type": "display_data"
    }
   ],
   "source": [
    "df.Interview_Time.hist(bins=50)"
   ]
  },
  {
   "cell_type": "markdown",
   "id": "4fc92d49-f86b-4570-bda6-ab82281130b2",
   "metadata": {},
   "source": [
    "#### No linear relationship or correlation between Age and Interview Time. Age is not normally distributed as skewed to the right while Interview Time appears to have an exponetial distribution."
   ]
  },
  {
   "cell_type": "code",
   "execution_count": 11,
   "id": "44cb64d4-6c3c-4e94-a3b7-aad4cd876c83",
   "metadata": {},
   "outputs": [
    {
     "data": {
      "text/html": [
       "<div>\n",
       "<style scoped>\n",
       "    .dataframe tbody tr th:only-of-type {\n",
       "        vertical-align: middle;\n",
       "    }\n",
       "\n",
       "    .dataframe tbody tr th {\n",
       "        vertical-align: top;\n",
       "    }\n",
       "\n",
       "    .dataframe thead th {\n",
       "        text-align: right;\n",
       "    }\n",
       "</style>\n",
       "<table border=\"1\" class=\"dataframe\">\n",
       "  <thead>\n",
       "    <tr style=\"text-align: right;\">\n",
       "      <th></th>\n",
       "      <th>Age</th>\n",
       "      <th>Interview_Time</th>\n",
       "    </tr>\n",
       "    <tr>\n",
       "      <th>State</th>\n",
       "      <th></th>\n",
       "      <th></th>\n",
       "    </tr>\n",
       "  </thead>\n",
       "  <tbody>\n",
       "    <tr>\n",
       "      <th>ACT</th>\n",
       "      <td>43.562500</td>\n",
       "      <td>155.620625</td>\n",
       "    </tr>\n",
       "    <tr>\n",
       "      <th>NSW</th>\n",
       "      <td>47.099398</td>\n",
       "      <td>206.852741</td>\n",
       "    </tr>\n",
       "    <tr>\n",
       "      <th>NT</th>\n",
       "      <td>39.300000</td>\n",
       "      <td>133.404000</td>\n",
       "    </tr>\n",
       "    <tr>\n",
       "      <th>QLD</th>\n",
       "      <td>47.574879</td>\n",
       "      <td>197.800338</td>\n",
       "    </tr>\n",
       "    <tr>\n",
       "      <th>SA</th>\n",
       "      <td>47.310811</td>\n",
       "      <td>170.823514</td>\n",
       "    </tr>\n",
       "    <tr>\n",
       "      <th>TAS</th>\n",
       "      <td>44.615385</td>\n",
       "      <td>182.839231</td>\n",
       "    </tr>\n",
       "    <tr>\n",
       "      <th>VIC</th>\n",
       "      <td>47.328125</td>\n",
       "      <td>192.630469</td>\n",
       "    </tr>\n",
       "    <tr>\n",
       "      <th>WA</th>\n",
       "      <td>48.056818</td>\n",
       "      <td>171.328182</td>\n",
       "    </tr>\n",
       "  </tbody>\n",
       "</table>\n",
       "</div>"
      ],
      "text/plain": [
       "             Age  Interview_Time\n",
       "State                           \n",
       "ACT    43.562500      155.620625\n",
       "NSW    47.099398      206.852741\n",
       "NT     39.300000      133.404000\n",
       "QLD    47.574879      197.800338\n",
       "SA     47.310811      170.823514\n",
       "TAS    44.615385      182.839231\n",
       "VIC    47.328125      192.630469\n",
       "WA     48.056818      171.328182"
      ]
     },
     "execution_count": 11,
     "metadata": {},
     "output_type": "execute_result"
    }
   ],
   "source": [
    "# Age and Interview_Time by State\n",
    "df_state = df.groupby('State').agg({'Age': 'mean', 'Interview_Time': 'mean'})\n",
    "df_state"
   ]
  },
  {
   "cell_type": "code",
   "execution_count": null,
   "id": "3b3f399b-f8d9-4bc6-9e9c-c27b20326949",
   "metadata": {},
   "outputs": [],
   "source": []
  }
 ],
 "metadata": {
  "kernelspec": {
   "display_name": "Python 3 (ipykernel)",
   "language": "python",
   "name": "python3"
  },
  "language_info": {
   "codemirror_mode": {
    "name": "ipython",
    "version": 3
   },
   "file_extension": ".py",
   "mimetype": "text/x-python",
   "name": "python",
   "nbconvert_exporter": "python",
   "pygments_lexer": "ipython3",
   "version": "3.12.11"
  }
 },
 "nbformat": 4,
 "nbformat_minor": 5
}
