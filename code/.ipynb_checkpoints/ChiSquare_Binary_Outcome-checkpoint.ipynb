{
 "cells": [
  {
   "cell_type": "markdown",
   "id": "f8ba3e35-de77-4926-b027-b57397d9be94",
   "metadata": {},
   "source": [
    "# CHI-SQUARE TEST BINARY OUTCOME"
   ]
  },
  {
   "cell_type": "code",
   "execution_count": 1,
   "id": "3451813b-d5ab-4999-af1c-92e0b8ec486f",
   "metadata": {},
   "outputs": [],
   "source": [
    "import pandas as pd\n",
    "import numpy as np\n",
    "from scipy.stats import chi2_contingency\n",
    "from math import sqrt,exp,log\n",
    "\n",
    "df = pd.read_csv('../data/cleaned_data.csv',index_col='Record_Number')"
   ]
  },
  {
   "cell_type": "markdown",
   "id": "3bf9ce91-2c24-4ef0-9fa7-a0574bc2b727",
   "metadata": {},
   "source": [
    "## Remove rows where answer to Q!a is 'Not sure'"
   ]
  },
  {
   "cell_type": "code",
   "execution_count": 2,
   "id": "212259ac-db80-48a5-b035-58db4a7a6ac6",
   "metadata": {},
   "outputs": [],
   "source": [
    "df = df[df.Q1a != 'Not sure'] "
   ]
  },
  {
   "cell_type": "code",
   "execution_count": 3,
   "id": "4812c5cd-bc2e-4979-ab46-3e76146c2186",
   "metadata": {},
   "outputs": [],
   "source": [
    "from scipy.stats import chi2_contingency\n",
    "# Defining a function to perform the Chi-Square Test and interpret results\n",
    "def perform_chi_square_test(data, col1, col2):\n",
    "    # Creating a contingency table\n",
    "    contingency_table = pd.crosstab(data[col1], data[col2])\n",
    "\n",
    "    # Performing the Chi-Square Test\n",
    "    chi2, p, dof, expected = chi2_contingency(contingency_table)\n",
    "\n",
    "    # Interpreting the result\n",
    "    significant = p < 0.05  # 5% significance level\n",
    "    return chi2, p, significant, contingency_table"
   ]
  },
  {
   "cell_type": "markdown",
   "id": "6289c583-1cb2-4093-bb8c-4d44cc6f31cb",
   "metadata": {},
   "source": [
    "## Assumptions\n",
    "- Both variables are categorical\n",
    "- All observations are independent\n",
    "- Cells in the contingency table are mutually exclusive\n",
    "- Expected value of cells should be 5 or greater in at least 80% of cells"
   ]
  },
  {
   "cell_type": "markdown",
   "id": "3cd49e7b-4386-4dfc-b0d2-24cdc18487c7",
   "metadata": {},
   "source": [
    "### X and Y are binary"
   ]
  },
  {
   "cell_type": "code",
   "execution_count": 4,
   "id": "542cde8c-f8d6-4269-b036-e9968806ce7c",
   "metadata": {},
   "outputs": [
    {
     "name": "stdout",
     "output_type": "stream",
     "text": [
      "Significant Tests\n",
      "\n",
      "Q1a            No  Yes\n",
      "Hypertension          \n",
      "False         251  490\n",
      "True           34  117 \n",
      "\n",
      "Test statistic = 6.927681820516224\n",
      "p-value = 0.008487162690235075\n",
      "\n",
      "\n",
      "---------------------------\n",
      "Q1a            No  Yes\n",
      "Renal_Kidney          \n",
      "False         283  586\n",
      "True            2   21 \n",
      "\n",
      "Test statistic = 4.825651052212233\n",
      "p-value = 0.028039273701622864\n",
      "\n",
      "\n",
      "---------------------------\n",
      "Q1a      No  Yes\n",
      "Cancer          \n",
      "False   280  577\n",
      "True      5   30 \n",
      "\n",
      "Test statistic = 4.416996137312998\n",
      "p-value = 0.03558262396455648\n",
      "\n",
      "\n",
      "---------------------------\n",
      "Q1a                           No  Yes\n",
      "Previously_Admitted_COVID19          \n",
      "False                        280  567\n",
      "True                           5   40 \n",
      "\n",
      "Test statistic = 8.483519552364525\n",
      "p-value = 0.00358378095526773\n",
      "\n",
      "\n",
      "---------------------------\n",
      "Q1a           No  Yes\n",
      "HIGH_RISKr1          \n",
      "False        266  507\n",
      "True          19  100 \n",
      "\n",
      "Test statistic = 15.299509597199714\n",
      "p-value = 9.174032466723262e-05\n",
      "\n",
      "\n",
      "---------------------------\n",
      "Q1a           No  Yes\n",
      "HIGH_RISKr5          \n",
      "False        273  554\n",
      "True          12   53 \n",
      "\n",
      "Test statistic = 5.21718799646047\n",
      "p-value = 0.022364687552668728\n",
      "\n",
      "\n",
      "---------------------------\n",
      "Q1a           No  Yes\n",
      "HIGH_RISKr6          \n",
      "False        280  567\n",
      "True           5   40 \n",
      "\n",
      "Test statistic = 8.483519552364525\n",
      "p-value = 0.00358378095526773\n",
      "\n",
      "\n",
      "---------------------------\n"
     ]
    }
   ],
   "source": [
    "binary = ['GCCSA','Asthma_moderate','Asthma_severe','Cardiovascular','COPD_moderate','COPD_severe','Dementia_Alzheimer','Diabetes',\n",
    "          'Disabilities','Hypertension','Liver','Neurodevelopmental','Obesity','Other_Chronic_Respiratory','Renal_Kidney','Autoimmune',\n",
    "          'Cancer','Chronic_Infections','Congenital_Acquired_Heart_Disease','Sickle','Solid_Organ','Previously_Admitted_COVID19',\n",
    "          'HIGH_RISKr1','HIGH_RISKr4','HIGH_RISKr5','HIGH_RISKr6']\n",
    "\n",
    "print('Significant Tests\\n')\n",
    "for i in range(len(binary)):\n",
    "    test = perform_chi_square_test(df, binary[i], 'Q1a')\n",
    "    if test[2] == True:\n",
    "        print(test[3],'\\n')\n",
    "        print (f'Test statistic = {test[0]}')\n",
    "        print (f'p-value = {test[1]}\\n\\n')\n",
    "        print('---------------------------')"
   ]
  },
  {
   "cell_type": "markdown",
   "id": "4b37e99d-3547-4c92-a1db-df805faa5338",
   "metadata": {},
   "source": [
    "#### People with Hypertension, Cancer, HIGH_RISKr1, HIGH_RISKr5 & HIGH_RISKr6 or people previously admitted With COVID-19 are more likely to seek treatment from the doctor if tested positive to COVID-19. \n",
    "NB: Renal Kidney breaks one of the assumptions as less than 80% of the cells have 5 or more occurences."
   ]
  },
  {
   "cell_type": "markdown",
   "id": "abe7b088-260e-493d-9b58-f5c9ed6a4fa6",
   "metadata": {},
   "source": [
    "### Odds Ratio for X and Y Binary"
   ]
  },
  {
   "cell_type": "markdown",
   "id": "da85a04b-322a-4a83-b102-ea21776b53cd",
   "metadata": {},
   "source": [
    "a is True/Yes\n",
    "\n",
    "b is True/No\n",
    "\n",
    "c is False/Yes\n",
    "\n",
    "d is False/No"
   ]
  },
  {
   "cell_type": "markdown",
   "id": "53d9ca8a-83fb-4976-9e5e-fe56d0833dbc",
   "metadata": {},
   "source": [
    "#### Hypertension, Q1a"
   ]
  },
  {
   "cell_type": "code",
   "execution_count": 5,
   "id": "3f1d53a4-72e0-4a48-a9f3-7d627d2bb077",
   "metadata": {},
   "outputs": [],
   "source": [
    "a = 117 \n",
    "b = 34\n",
    "c = 490\n",
    "d = 251"
   ]
  },
  {
   "cell_type": "code",
   "execution_count": 6,
   "id": "e0c1fc5b-2443-4428-ae6c-02ae57c0b0bc",
   "metadata": {},
   "outputs": [
    {
     "name": "stdout",
     "output_type": "stream",
     "text": [
      "People with hypertension are 1.76 times more likely to seek treatment from a doctor if testing positve to COVID-19.\n",
      "Confidence interval is (1.35, 2.17).\n",
      "\n"
     ]
    }
   ],
   "source": [
    "odds_ratio = (a*d) / (b*c)\n",
    "se = sqrt((1/a)+(1/b)+(1/c)+(1/d))\n",
    "ci_lower = round(exp(log(odds_ratio - (1.96 * se))),2)\n",
    "ci_upper = round(exp(log(odds_ratio + (1.96 * se))),2)\n",
    "print(f'People with hypertension are {round(odds_ratio,2)} times more likely to seek treatment from a doctor if testing positve to COVID-19.')\n",
    "print(f'Confidence interval is ({ci_lower}, {ci_upper}).\\n')\n"
   ]
  },
  {
   "cell_type": "markdown",
   "id": "6ab065ba-5e19-45d2-a2ea-0153ba27385b",
   "metadata": {},
   "source": [
    "#### Cancer, Q1a"
   ]
  },
  {
   "cell_type": "code",
   "execution_count": 7,
   "id": "2e45548f-4ea0-47c2-8348-1ef333c6b52a",
   "metadata": {},
   "outputs": [],
   "source": [
    "a = 30 \n",
    "b = 5\n",
    "c = 577\n",
    "d = 280"
   ]
  },
  {
   "cell_type": "code",
   "execution_count": 8,
   "id": "2a78a5d1-0f6a-406e-832d-1a60cf9baaa9",
   "metadata": {},
   "outputs": [
    {
     "name": "stdout",
     "output_type": "stream",
     "text": [
      "People with cancer are 2.91 times more likely to seek treatment from a doctor if testing positve to COVID-19.\n",
      "Confidence interval is (1.95, 3.87).\n",
      "\n"
     ]
    }
   ],
   "source": [
    "odds_ratio = (a*d) / (b*c)\n",
    "se = sqrt((1/a)+(1/b)+(1/c)+(1/d))\n",
    "ci_lower = round(exp(log(odds_ratio - (1.96 * se))),2)\n",
    "ci_upper = round(exp(log(odds_ratio + (1.96 * se))),2)\n",
    "print(f'People with cancer are {round(odds_ratio,2)} times more likely to seek treatment from a doctor if testing positve to COVID-19.')\n",
    "print(f'Confidence interval is ({ci_lower}, {ci_upper}).\\n')"
   ]
  },
  {
   "cell_type": "markdown",
   "id": "3933af1f-f986-40cf-ac65-436a24ffe327",
   "metadata": {},
   "source": [
    "#### Previously Admitted With COVID19, Q1a"
   ]
  },
  {
   "cell_type": "code",
   "execution_count": 9,
   "id": "4a0dda8b-3987-47e4-9aec-e5b6890fb992",
   "metadata": {},
   "outputs": [],
   "source": [
    "a = 40 \n",
    "b = 5\n",
    "c = 567\n",
    "d = 280"
   ]
  },
  {
   "cell_type": "code",
   "execution_count": 10,
   "id": "4c768273-1027-4adb-8c62-5bb58f70c74f",
   "metadata": {},
   "outputs": [
    {
     "name": "stdout",
     "output_type": "stream",
     "text": [
      "People previously admitted with Covid-19 are 3.95 times more likely to seek treatment from a doctor if testing positve to COVID-19.\n",
      "Confidence interval is (3.01, 4.89).\n",
      "\n"
     ]
    }
   ],
   "source": [
    "odds_ratio = (a*d) / (b*c)\n",
    "se = sqrt((1/a)+(1/b)+(1/c)+(1/d))\n",
    "ci_lower = round(exp(log(odds_ratio - (1.96 * se))),2)\n",
    "ci_upper = round(exp(log(odds_ratio + (1.96 * se))),2)\n",
    "print(f'People previously admitted with Covid-19 are {round(odds_ratio,2)} times more likely to seek treatment from a doctor if testing positve to COVID-19.')\n",
    "print(f'Confidence interval is ({ci_lower}, {ci_upper}).\\n')"
   ]
  },
  {
   "cell_type": "markdown",
   "id": "92683589-f8e7-4bf8-8283-edc9356382fa",
   "metadata": {},
   "source": [
    "#### HIGH_RISKr1, Q1a"
   ]
  },
  {
   "cell_type": "code",
   "execution_count": 11,
   "id": "3894934e-64e7-43f2-b404-92351a812df5",
   "metadata": {},
   "outputs": [],
   "source": [
    "a = 100 \n",
    "b = 19\n",
    "c = 507\n",
    "d = 266"
   ]
  },
  {
   "cell_type": "code",
   "execution_count": 12,
   "id": "278a4447-f9f9-4278-a982-93f93da09404",
   "metadata": {},
   "outputs": [
    {
     "name": "stdout",
     "output_type": "stream",
     "text": [
      "People with HIGH_RISKr1 are 2.76 times more likely to seek treatment from a doctor if testing positve to COVID-19.\n",
      "Confidence interval is (2.25, 3.27).\n",
      "\n"
     ]
    }
   ],
   "source": [
    "odds_ratio = (a*d) / (b*c)\n",
    "se = sqrt((1/a)+(1/b)+(1/c)+(1/d))\n",
    "ci_lower = round(exp(log(odds_ratio - (1.96 * se))),2)\n",
    "ci_upper = round(exp(log(odds_ratio + (1.96 * se))),2)\n",
    "print(f'People with HIGH_RISKr1 are {round(odds_ratio,2)} times more likely to seek treatment from a doctor if testing positve to COVID-19.')\n",
    "print(f'Confidence interval is ({ci_lower}, {ci_upper}).\\n')"
   ]
  },
  {
   "cell_type": "markdown",
   "id": "76adca9d-1796-4814-ab72-ad35a3358a3b",
   "metadata": {},
   "source": [
    "#### HIGH_RISKr5, Q1a"
   ]
  },
  {
   "cell_type": "code",
   "execution_count": 13,
   "id": "0f474031-40da-4d62-aff4-a427e1f60d0c",
   "metadata": {},
   "outputs": [],
   "source": [
    "a = 53 \n",
    "b = 12\n",
    "c = 554\n",
    "d = 273"
   ]
  },
  {
   "cell_type": "code",
   "execution_count": 14,
   "id": "7936f297-878f-4c8a-aff9-3c5ba7c039bb",
   "metadata": {},
   "outputs": [
    {
     "name": "stdout",
     "output_type": "stream",
     "text": [
      "People with HIGH_RISKr5 are 2.18 times more likely to seek treatment from a doctor if testing positve to COVID-19.\n",
      "Confidence interval is (1.53, 2.82).\n",
      "\n"
     ]
    }
   ],
   "source": [
    "odds_ratio = (a*d) / (b*c)\n",
    "se = sqrt((1/a)+(1/b)+(1/c)+(1/d))\n",
    "ci_lower = round(exp(log(odds_ratio - (1.96 * se))),2)\n",
    "ci_upper = round(exp(log(odds_ratio + (1.96 * se))),2)\n",
    "print(f'People with HIGH_RISKr5 are {round(odds_ratio,2)} times more likely to seek treatment from a doctor if testing positve to COVID-19.')\n",
    "print(f'Confidence interval is ({ci_lower}, {ci_upper}).\\n')"
   ]
  },
  {
   "cell_type": "markdown",
   "id": "4d2d8aea-63bd-4ccf-a909-a416781bd7a8",
   "metadata": {},
   "source": [
    "#### HIGH_RISKr6, Q1a"
   ]
  },
  {
   "cell_type": "code",
   "execution_count": 15,
   "id": "aea712b0-9339-46b7-8c8c-b210cf9dafa8",
   "metadata": {},
   "outputs": [],
   "source": [
    "a = 40 \n",
    "b = 5\n",
    "c = 567\n",
    "d = 280"
   ]
  },
  {
   "cell_type": "code",
   "execution_count": 16,
   "id": "630fb6ae-4c3b-4cd6-aa57-f327624ea349",
   "metadata": {},
   "outputs": [
    {
     "name": "stdout",
     "output_type": "stream",
     "text": [
      "People with HIGH_RISKr6 are 3.95 times more likely to seek treatment from a doctor if testing positve to COVID-19.\n",
      "Confidence interval is (3.01, 4.89).\n",
      "\n"
     ]
    }
   ],
   "source": [
    "odds_ratio = (a*d) / (b*c)\n",
    "se = sqrt((1/a)+(1/b)+(1/c)+(1/d))\n",
    "ci_lower = round(exp(log(odds_ratio - (1.96 * se))),2)\n",
    "ci_upper = round(exp(log(odds_ratio + (1.96 * se))),2)\n",
    "print(f'People with HIGH_RISKr6 are {round(odds_ratio,2)} times more likely to seek treatment from a doctor if testing positve to COVID-19.')\n",
    "print(f'Confidence interval is ({ci_lower}, {ci_upper}).\\n')"
   ]
  },
  {
   "cell_type": "code",
   "execution_count": null,
   "id": "f910a083-3b06-413e-b309-d53b89ee661e",
   "metadata": {},
   "outputs": [],
   "source": []
  }
 ],
 "metadata": {
  "kernelspec": {
   "display_name": "Python 3 (ipykernel)",
   "language": "python",
   "name": "python3"
  },
  "language_info": {
   "codemirror_mode": {
    "name": "ipython",
    "version": 3
   },
   "file_extension": ".py",
   "mimetype": "text/x-python",
   "name": "python",
   "nbconvert_exporter": "python",
   "pygments_lexer": "ipython3",
   "version": "3.12.11"
  }
 },
 "nbformat": 4,
 "nbformat_minor": 5
}
